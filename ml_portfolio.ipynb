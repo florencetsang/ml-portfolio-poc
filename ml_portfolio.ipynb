{
  "nbformat": 4,
  "nbformat_minor": 0,
  "metadata": {
    "colab": {
      "name": "ml-portfolio.ipynb",
      "provenance": [],
      "authorship_tag": "ABX9TyOnZZBIy25nRE/saFfR6RZK",
      "include_colab_link": true
    },
    "kernelspec": {
      "name": "python3",
      "display_name": "Python 3"
    },
    "language_info": {
      "name": "python"
    }
  },
  "cells": [
    {
      "cell_type": "markdown",
      "metadata": {
        "id": "view-in-github",
        "colab_type": "text"
      },
      "source": [
        "<a href=\"https://colab.research.google.com/github/florencetsang/ml-portfolio-poc/blob/main/ml_portfolio.ipynb\" target=\"_parent\"><img src=\"https://colab.research.google.com/assets/colab-badge.svg\" alt=\"Open In Colab\"/></a>"
      ]
    },
    {
      "cell_type": "code",
      "execution_count": null,
      "metadata": {
        "id": "e4PiESSn5Wx4"
      },
      "outputs": [],
      "source": [
        "import torch\n",
        "from torch import nn\n",
        "from torch.utils.data import DataLoader\n",
        "from torchvision import datasets\n",
        "from torchvision.transforms import ToTensor\n",
        "from torch.autograd import Variable\n",
        "import pandas as pd"
      ]
    },
    {
      "cell_type": "code",
      "source": [
        "device = \"cuda\" if torch.cuda.is_available() else \"cpu\"\n",
        "print(f\"Using {device} device\")"
      ],
      "metadata": {
        "colab": {
          "base_uri": "https://localhost:8080/"
        },
        "id": "5tlvPo68Pnpf",
        "outputId": "dabcad64-2974-47b6-cd6f-fa93ee7aa079"
      },
      "execution_count": null,
      "outputs": [
        {
          "output_type": "stream",
          "name": "stdout",
          "text": [
            "Using cpu device\n"
          ]
        }
      ]
    },
    {
      "cell_type": "markdown",
      "source": [
        "Import raw data from yahoo finance"
      ],
      "metadata": {
        "id": "MRi8JtX9gAb0"
      }
    },
    {
      "cell_type": "code",
      "source": [
        "tsla_raw = pd.read_csv('TSLA.csv')\n",
        "print(tsla_raw.shape)"
      ],
      "metadata": {
        "colab": {
          "base_uri": "https://localhost:8080/"
        },
        "id": "kEp0KCBSE3uX",
        "outputId": "461117fd-ecab-4293-d196-fd7410008d93"
      },
      "execution_count": null,
      "outputs": [
        {
          "output_type": "stream",
          "name": "stdout",
          "text": [
            "(253, 7)\n"
          ]
        }
      ]
    },
    {
      "cell_type": "code",
      "source": [
        "tsla_raw.head()"
      ],
      "metadata": {
        "colab": {
          "base_uri": "https://localhost:8080/",
          "height": 206
        },
        "id": "ffmGB06pT8_q",
        "outputId": "fcd71078-8768-4da0-dbd2-556632061be3"
      },
      "execution_count": null,
      "outputs": [
        {
          "output_type": "execute_result",
          "data": {
            "text/plain": [
              "         Date        Open        High         Low       Close   Adj Close  \\\n",
              "0  2021-08-25  235.676666  238.990005  234.666672  237.066666  237.066666   \n",
              "1  2021-08-26  236.103333  238.466660  232.540039  233.720001  233.720001   \n",
              "2  2021-08-27  235.000000  238.333328  234.033371  237.306671  237.306671   \n",
              "3  2021-08-30  238.238327  243.666672  237.576660  243.636673  243.636673   \n",
              "4  2021-08-31  244.333328  246.796661  242.146667  245.240005  245.240005   \n",
              "\n",
              "     Volume  \n",
              "0  37936686  \n",
              "1  39642876  \n",
              "2  41501289  \n",
              "3  55812660  \n",
              "4  62566308  "
            ],
            "text/html": [
              "\n",
              "  <div id=\"df-b4170dba-d2c8-488b-a692-6396b76877c6\">\n",
              "    <div class=\"colab-df-container\">\n",
              "      <div>\n",
              "<style scoped>\n",
              "    .dataframe tbody tr th:only-of-type {\n",
              "        vertical-align: middle;\n",
              "    }\n",
              "\n",
              "    .dataframe tbody tr th {\n",
              "        vertical-align: top;\n",
              "    }\n",
              "\n",
              "    .dataframe thead th {\n",
              "        text-align: right;\n",
              "    }\n",
              "</style>\n",
              "<table border=\"1\" class=\"dataframe\">\n",
              "  <thead>\n",
              "    <tr style=\"text-align: right;\">\n",
              "      <th></th>\n",
              "      <th>Date</th>\n",
              "      <th>Open</th>\n",
              "      <th>High</th>\n",
              "      <th>Low</th>\n",
              "      <th>Close</th>\n",
              "      <th>Adj Close</th>\n",
              "      <th>Volume</th>\n",
              "    </tr>\n",
              "  </thead>\n",
              "  <tbody>\n",
              "    <tr>\n",
              "      <th>0</th>\n",
              "      <td>2021-08-25</td>\n",
              "      <td>235.676666</td>\n",
              "      <td>238.990005</td>\n",
              "      <td>234.666672</td>\n",
              "      <td>237.066666</td>\n",
              "      <td>237.066666</td>\n",
              "      <td>37936686</td>\n",
              "    </tr>\n",
              "    <tr>\n",
              "      <th>1</th>\n",
              "      <td>2021-08-26</td>\n",
              "      <td>236.103333</td>\n",
              "      <td>238.466660</td>\n",
              "      <td>232.540039</td>\n",
              "      <td>233.720001</td>\n",
              "      <td>233.720001</td>\n",
              "      <td>39642876</td>\n",
              "    </tr>\n",
              "    <tr>\n",
              "      <th>2</th>\n",
              "      <td>2021-08-27</td>\n",
              "      <td>235.000000</td>\n",
              "      <td>238.333328</td>\n",
              "      <td>234.033371</td>\n",
              "      <td>237.306671</td>\n",
              "      <td>237.306671</td>\n",
              "      <td>41501289</td>\n",
              "    </tr>\n",
              "    <tr>\n",
              "      <th>3</th>\n",
              "      <td>2021-08-30</td>\n",
              "      <td>238.238327</td>\n",
              "      <td>243.666672</td>\n",
              "      <td>237.576660</td>\n",
              "      <td>243.636673</td>\n",
              "      <td>243.636673</td>\n",
              "      <td>55812660</td>\n",
              "    </tr>\n",
              "    <tr>\n",
              "      <th>4</th>\n",
              "      <td>2021-08-31</td>\n",
              "      <td>244.333328</td>\n",
              "      <td>246.796661</td>\n",
              "      <td>242.146667</td>\n",
              "      <td>245.240005</td>\n",
              "      <td>245.240005</td>\n",
              "      <td>62566308</td>\n",
              "    </tr>\n",
              "  </tbody>\n",
              "</table>\n",
              "</div>\n",
              "      <button class=\"colab-df-convert\" onclick=\"convertToInteractive('df-b4170dba-d2c8-488b-a692-6396b76877c6')\"\n",
              "              title=\"Convert this dataframe to an interactive table.\"\n",
              "              style=\"display:none;\">\n",
              "        \n",
              "  <svg xmlns=\"http://www.w3.org/2000/svg\" height=\"24px\"viewBox=\"0 0 24 24\"\n",
              "       width=\"24px\">\n",
              "    <path d=\"M0 0h24v24H0V0z\" fill=\"none\"/>\n",
              "    <path d=\"M18.56 5.44l.94 2.06.94-2.06 2.06-.94-2.06-.94-.94-2.06-.94 2.06-2.06.94zm-11 1L8.5 8.5l.94-2.06 2.06-.94-2.06-.94L8.5 2.5l-.94 2.06-2.06.94zm10 10l.94 2.06.94-2.06 2.06-.94-2.06-.94-.94-2.06-.94 2.06-2.06.94z\"/><path d=\"M17.41 7.96l-1.37-1.37c-.4-.4-.92-.59-1.43-.59-.52 0-1.04.2-1.43.59L10.3 9.45l-7.72 7.72c-.78.78-.78 2.05 0 2.83L4 21.41c.39.39.9.59 1.41.59.51 0 1.02-.2 1.41-.59l7.78-7.78 2.81-2.81c.8-.78.8-2.07 0-2.86zM5.41 20L4 18.59l7.72-7.72 1.47 1.35L5.41 20z\"/>\n",
              "  </svg>\n",
              "      </button>\n",
              "      \n",
              "  <style>\n",
              "    .colab-df-container {\n",
              "      display:flex;\n",
              "      flex-wrap:wrap;\n",
              "      gap: 12px;\n",
              "    }\n",
              "\n",
              "    .colab-df-convert {\n",
              "      background-color: #E8F0FE;\n",
              "      border: none;\n",
              "      border-radius: 50%;\n",
              "      cursor: pointer;\n",
              "      display: none;\n",
              "      fill: #1967D2;\n",
              "      height: 32px;\n",
              "      padding: 0 0 0 0;\n",
              "      width: 32px;\n",
              "    }\n",
              "\n",
              "    .colab-df-convert:hover {\n",
              "      background-color: #E2EBFA;\n",
              "      box-shadow: 0px 1px 2px rgba(60, 64, 67, 0.3), 0px 1px 3px 1px rgba(60, 64, 67, 0.15);\n",
              "      fill: #174EA6;\n",
              "    }\n",
              "\n",
              "    [theme=dark] .colab-df-convert {\n",
              "      background-color: #3B4455;\n",
              "      fill: #D2E3FC;\n",
              "    }\n",
              "\n",
              "    [theme=dark] .colab-df-convert:hover {\n",
              "      background-color: #434B5C;\n",
              "      box-shadow: 0px 1px 3px 1px rgba(0, 0, 0, 0.15);\n",
              "      filter: drop-shadow(0px 1px 2px rgba(0, 0, 0, 0.3));\n",
              "      fill: #FFFFFF;\n",
              "    }\n",
              "  </style>\n",
              "\n",
              "      <script>\n",
              "        const buttonEl =\n",
              "          document.querySelector('#df-b4170dba-d2c8-488b-a692-6396b76877c6 button.colab-df-convert');\n",
              "        buttonEl.style.display =\n",
              "          google.colab.kernel.accessAllowed ? 'block' : 'none';\n",
              "\n",
              "        async function convertToInteractive(key) {\n",
              "          const element = document.querySelector('#df-b4170dba-d2c8-488b-a692-6396b76877c6');\n",
              "          const dataTable =\n",
              "            await google.colab.kernel.invokeFunction('convertToInteractive',\n",
              "                                                     [key], {});\n",
              "          if (!dataTable) return;\n",
              "\n",
              "          const docLinkHtml = 'Like what you see? Visit the ' +\n",
              "            '<a target=\"_blank\" href=https://colab.research.google.com/notebooks/data_table.ipynb>data table notebook</a>'\n",
              "            + ' to learn more about interactive tables.';\n",
              "          element.innerHTML = '';\n",
              "          dataTable['output_type'] = 'display_data';\n",
              "          await google.colab.output.renderOutput(dataTable, element);\n",
              "          const docLink = document.createElement('div');\n",
              "          docLink.innerHTML = docLinkHtml;\n",
              "          element.appendChild(docLink);\n",
              "        }\n",
              "      </script>\n",
              "    </div>\n",
              "  </div>\n",
              "  "
            ]
          },
          "metadata": {},
          "execution_count": 22
        }
      ]
    },
    {
      "cell_type": "markdown",
      "source": [
        "Calculate daily returns"
      ],
      "metadata": {
        "id": "NraBWrzef4BA"
      }
    },
    {
      "cell_type": "code",
      "source": [],
      "metadata": {
        "id": "2e03XXEgf1r4"
      },
      "execution_count": null,
      "outputs": []
    },
    {
      "cell_type": "markdown",
      "source": [
        "Build feature space"
      ],
      "metadata": {
        "id": "_L1SeZ_ggNPL"
      }
    },
    {
      "cell_type": "code",
      "source": [
        "def backsummation(self, original_df):\n",
        "    N_SUMMANDS = 25\n",
        "    temp_vars = []\n",
        "\n",
        "    df = original_df\n",
        "    for i in range(0,N_SUMMANDS):\n",
        "        temp_var = \"M_{0}\".format(i)\n",
        "        df[temp_var] = df[\"Measurement\"].shift(i)\n",
        "        temp_vars.append(temp_var)\n",
        "\n",
        "    df[\"Sum\"]  = df[temp_vars].sum(axis=1)\n",
        "    df[\"Mean\"] = df[temp_vars].mean(axis=1)\n",
        "    df.loc[(df[\"Trigger\"]==False), \"Sum\"] = np.nan\n",
        "    df.loc[(df[\"Trigger\"]==False), \"Mean\"] = np.nan"
      ],
      "metadata": {
        "id": "0L7qIEJvdIvp"
      },
      "execution_count": null,
      "outputs": []
    },
    {
      "cell_type": "code",
      "source": [
        "def to_features(market_data):\n",
        "  # print(market_data)\n",
        "  return market_data.max()\n",
        "  # def f(x):\n",
        "  #  print (x) \n",
        "  #  #sample function\n",
        "  #  return x.max()"
      ],
      "metadata": {
        "id": "xE1cTuBFVSb5"
      },
      "execution_count": null,
      "outputs": []
    },
    {
      "cell_type": "code",
      "source": [
        "tsla_raw = tsla_raw.loc[:, tsla_raw.columns!='Date']\n",
        "X = tsla_raw.apply(to_features, axis=1)\n",
        "print(X)"
      ],
      "metadata": {
        "colab": {
          "base_uri": "https://localhost:8080/"
        },
        "id": "AqlB62v0VSsI",
        "outputId": "fa58b240-92a8-4eaa-b797-9c16fa973a7a"
      },
      "execution_count": null,
      "outputs": [
        {
          "output_type": "stream",
          "name": "stdout",
          "text": [
            "0      37936686.0\n",
            "1      39642876.0\n",
            "2      41501289.0\n",
            "3      55812660.0\n",
            "4      62566308.0\n",
            "          ...    \n",
            "248    61395387.0\n",
            "249    55843347.0\n",
            "250    63985044.0\n",
            "251    57259716.0\n",
            "252    52742375.0\n",
            "Length: 253, dtype: float64\n"
          ]
        }
      ]
    },
    {
      "cell_type": "code",
      "source": [
        "x = Variable(torch.rand(1, 6), requires_grad=True)\n",
        "b = a**2\n",
        "c = b*2\n",
        "d = c.mean()\n",
        "e = c.sum()"
      ],
      "metadata": {
        "id": "jpHy0WMyQDtA"
      },
      "execution_count": null,
      "outputs": []
    },
    {
      "cell_type": "code",
      "source": [
        "batch_size = 64\n",
        "\n",
        "# Create data loaders.\n",
        "train_dataloader = DataLoader(tsla, batch_size=batch_size)\n",
        "# test_dataloader = DataLoader(test_data, batch_size=batch_size)\n",
        "\n",
        "\n",
        "\n",
        "\n",
        "# for X in train_dataloader:\n",
        "#     print(f\"Shape of X [N, C, H, W]: {X.shape}\")\n",
        "#     # print(f\"Shape of y: {y.shape} {y.dtype}\")\n",
        "#     break"
      ],
      "metadata": {
        "colab": {
          "base_uri": "https://localhost:8080/"
        },
        "id": "DtjnzTPI533W",
        "outputId": "0ad543c0-29ab-4f09-ea89-279bb0546bdc"
      },
      "execution_count": null,
      "outputs": [
        {
          "output_type": "stream",
          "name": "stdout",
          "text": [
            "(253, 7)\n"
          ]
        }
      ]
    }
  ]
}